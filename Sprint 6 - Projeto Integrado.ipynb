{
 "cells": [
  {
   "cell_type": "markdown",
   "metadata": {},
   "source": [
    "# Etapa 1 - estudo das informações gerais"
   ]
  },
  {
   "cell_type": "code",
   "execution_count": 1,
   "metadata": {},
   "outputs": [],
   "source": [
    "# importando as bibliotecas\n",
    "import pandas as pd\n",
    "from matplotlib import pyplot as plt\n",
    "import numpy as np\n",
    "import seaborn as sns\n",
    "from math import factorial\n",
    "from scipy import stats as st\n",
    "import math as mt\n",
    "import plotly.express as px\n",
    "from datetime import datetime\n"
   ]
  },
  {
   "cell_type": "code",
   "execution_count": 2,
   "metadata": {
    "scrolled": false
   },
   "outputs": [],
   "source": [
    "# Carregando o arquivo \n",
    "df_proj_int_1 = pd.read_csv('/datasets/games.csv')"
   ]
  },
  {
   "cell_type": "code",
   "execution_count": 3,
   "metadata": {
    "scrolled": false
   },
   "outputs": [
    {
     "name": "stdout",
     "output_type": "stream",
     "text": [
      "<class 'pandas.core.frame.DataFrame'>\n",
      "RangeIndex: 16715 entries, 0 to 16714\n",
      "Data columns (total 11 columns):\n",
      " #   Column           Non-Null Count  Dtype  \n",
      "---  ------           --------------  -----  \n",
      " 0   Name             16713 non-null  object \n",
      " 1   Platform         16715 non-null  object \n",
      " 2   Year_of_Release  16446 non-null  float64\n",
      " 3   Genre            16713 non-null  object \n",
      " 4   NA_sales         16715 non-null  float64\n",
      " 5   EU_sales         16715 non-null  float64\n",
      " 6   JP_sales         16715 non-null  float64\n",
      " 7   Other_sales      16715 non-null  float64\n",
      " 8   Critic_Score     8137 non-null   float64\n",
      " 9   User_Score       10014 non-null  object \n",
      " 10  Rating           9949 non-null   object \n",
      "dtypes: float64(6), object(5)\n",
      "memory usage: 1.4+ MB\n"
     ]
    }
   ],
   "source": [
    "# obtendo informações gerais sobre os dados\n",
    "df_proj_int_1.info()"
   ]
  },
  {
   "cell_type": "markdown",
   "metadata": {},
   "source": [
    "- foi possível observar que várias colunas tem valores ausentes"
   ]
  },
  {
   "cell_type": "code",
   "execution_count": 4,
   "metadata": {
    "scrolled": false
   },
   "outputs": [
    {
     "data": {
      "text/html": [
       "<div>\n",
       "<style scoped>\n",
       "    .dataframe tbody tr th:only-of-type {\n",
       "        vertical-align: middle;\n",
       "    }\n",
       "\n",
       "    .dataframe tbody tr th {\n",
       "        vertical-align: top;\n",
       "    }\n",
       "\n",
       "    .dataframe thead th {\n",
       "        text-align: right;\n",
       "    }\n",
       "</style>\n",
       "<table border=\"1\" class=\"dataframe\">\n",
       "  <thead>\n",
       "    <tr style=\"text-align: right;\">\n",
       "      <th></th>\n",
       "      <th>Name</th>\n",
       "      <th>Platform</th>\n",
       "      <th>Year_of_Release</th>\n",
       "      <th>Genre</th>\n",
       "      <th>NA_sales</th>\n",
       "      <th>EU_sales</th>\n",
       "      <th>JP_sales</th>\n",
       "      <th>Other_sales</th>\n",
       "      <th>Critic_Score</th>\n",
       "      <th>User_Score</th>\n",
       "      <th>Rating</th>\n",
       "    </tr>\n",
       "  </thead>\n",
       "  <tbody>\n",
       "    <tr>\n",
       "      <th>0</th>\n",
       "      <td>Wii Sports</td>\n",
       "      <td>Wii</td>\n",
       "      <td>2006.0</td>\n",
       "      <td>Sports</td>\n",
       "      <td>41.36</td>\n",
       "      <td>28.96</td>\n",
       "      <td>3.77</td>\n",
       "      <td>8.45</td>\n",
       "      <td>76.0</td>\n",
       "      <td>8</td>\n",
       "      <td>E</td>\n",
       "    </tr>\n",
       "    <tr>\n",
       "      <th>1</th>\n",
       "      <td>Super Mario Bros.</td>\n",
       "      <td>NES</td>\n",
       "      <td>1985.0</td>\n",
       "      <td>Platform</td>\n",
       "      <td>29.08</td>\n",
       "      <td>3.58</td>\n",
       "      <td>6.81</td>\n",
       "      <td>0.77</td>\n",
       "      <td>NaN</td>\n",
       "      <td>NaN</td>\n",
       "      <td>NaN</td>\n",
       "    </tr>\n",
       "    <tr>\n",
       "      <th>2</th>\n",
       "      <td>Mario Kart Wii</td>\n",
       "      <td>Wii</td>\n",
       "      <td>2008.0</td>\n",
       "      <td>Racing</td>\n",
       "      <td>15.68</td>\n",
       "      <td>12.76</td>\n",
       "      <td>3.79</td>\n",
       "      <td>3.29</td>\n",
       "      <td>82.0</td>\n",
       "      <td>8.3</td>\n",
       "      <td>E</td>\n",
       "    </tr>\n",
       "    <tr>\n",
       "      <th>3</th>\n",
       "      <td>Wii Sports Resort</td>\n",
       "      <td>Wii</td>\n",
       "      <td>2009.0</td>\n",
       "      <td>Sports</td>\n",
       "      <td>15.61</td>\n",
       "      <td>10.93</td>\n",
       "      <td>3.28</td>\n",
       "      <td>2.95</td>\n",
       "      <td>80.0</td>\n",
       "      <td>8</td>\n",
       "      <td>E</td>\n",
       "    </tr>\n",
       "    <tr>\n",
       "      <th>4</th>\n",
       "      <td>Pokemon Red/Pokemon Blue</td>\n",
       "      <td>GB</td>\n",
       "      <td>1996.0</td>\n",
       "      <td>Role-Playing</td>\n",
       "      <td>11.27</td>\n",
       "      <td>8.89</td>\n",
       "      <td>10.22</td>\n",
       "      <td>1.00</td>\n",
       "      <td>NaN</td>\n",
       "      <td>NaN</td>\n",
       "      <td>NaN</td>\n",
       "    </tr>\n",
       "  </tbody>\n",
       "</table>\n",
       "</div>"
      ],
      "text/plain": [
       "                       Name Platform  Year_of_Release         Genre  NA_sales  \\\n",
       "0                Wii Sports      Wii           2006.0        Sports     41.36   \n",
       "1         Super Mario Bros.      NES           1985.0      Platform     29.08   \n",
       "2            Mario Kart Wii      Wii           2008.0        Racing     15.68   \n",
       "3         Wii Sports Resort      Wii           2009.0        Sports     15.61   \n",
       "4  Pokemon Red/Pokemon Blue       GB           1996.0  Role-Playing     11.27   \n",
       "\n",
       "   EU_sales  JP_sales  Other_sales  Critic_Score User_Score Rating  \n",
       "0     28.96      3.77         8.45          76.0          8      E  \n",
       "1      3.58      6.81         0.77           NaN        NaN    NaN  \n",
       "2     12.76      3.79         3.29          82.0        8.3      E  \n",
       "3     10.93      3.28         2.95          80.0          8      E  \n",
       "4      8.89     10.22         1.00           NaN        NaN    NaN  "
      ]
     },
     "execution_count": 4,
     "metadata": {},
     "output_type": "execute_result"
    }
   ],
   "source": [
    "# obtenha as primeiras linhas da tabela\n",
    "df_proj_int_1.head()"
   ]
  },
  {
   "cell_type": "markdown",
   "metadata": {},
   "source": [
    "# Etapa 2 - Prepare os dados"
   ]
  },
  {
   "cell_type": "code",
   "execution_count": 5,
   "metadata": {},
   "outputs": [
    {
     "name": "stdout",
     "output_type": "stream",
     "text": [
      "Index(['Name', 'Platform', 'Year_of_Release', 'Genre', 'NA_sales', 'EU_sales',\n",
      "       'JP_sales', 'Other_sales', 'Critic_Score', 'User_Score', 'Rating'],\n",
      "      dtype='object')\n"
     ]
    }
   ],
   "source": [
    "# imprimir nomes das colunas\n",
    "print(df_proj_int_1.columns)"
   ]
  },
  {
   "cell_type": "code",
   "execution_count": 6,
   "metadata": {},
   "outputs": [
    {
     "name": "stdout",
     "output_type": "stream",
     "text": [
      "['name', 'platform', 'year_of_release', 'genre', 'na_sales', 'eu_sales', 'jp_sales', 'other_sales', 'critic_score', 'user_score', 'rating']\n"
     ]
    }
   ],
   "source": [
    "# substituir os nomes das colunas\n",
    "new_name_colum = []\n",
    "for old_name in df_proj_int_1.columns:\n",
    "    name_lower = old_name.lower()\n",
    "    new_name_colum.append(name_lower)\n",
    "df_proj_int_1.columns = new_name_colum\n",
    "print(new_name_colum)"
   ]
  },
  {
   "cell_type": "code",
   "execution_count": 7,
   "metadata": {},
   "outputs": [
    {
     "name": "stdout",
     "output_type": "stream",
     "text": [
      "name                  2\n",
      "platform              0\n",
      "year_of_release     269\n",
      "genre                 2\n",
      "na_sales              0\n",
      "eu_sales              0\n",
      "jp_sales              0\n",
      "other_sales           0\n",
      "critic_score       8578\n",
      "user_score         6701\n",
      "rating             6766\n",
      "dtype: int64\n"
     ]
    }
   ],
   "source": [
    "# verificar valores ausentes\n",
    "print(df_proj_int_1.isna().sum())"
   ]
  },
  {
   "cell_type": "code",
   "execution_count": 8,
   "metadata": {
    "scrolled": false
   },
   "outputs": [
    {
     "name": "stdout",
     "output_type": "stream",
     "text": [
      "name               0.000120\n",
      "platform           0.000000\n",
      "year_of_release    0.016093\n",
      "genre              0.000120\n",
      "na_sales           0.000000\n",
      "eu_sales           0.000000\n",
      "jp_sales           0.000000\n",
      "other_sales        0.000000\n",
      "critic_score       0.513192\n",
      "user_score         0.400897\n",
      "rating             0.404786\n",
      "dtype: float64\n"
     ]
    }
   ],
   "source": [
    "print(df_proj_int_1.isna().mean())"
   ]
  },
  {
   "cell_type": "code",
   "execution_count": 9,
   "metadata": {},
   "outputs": [],
   "source": [
    "df_proj_int_1 = df_proj_int_1.dropna(subset=['year_of_release'])"
   ]
  },
  {
   "cell_type": "code",
   "execution_count": 10,
   "metadata": {
    "scrolled": false
   },
   "outputs": [
    {
     "name": "stdout",
     "output_type": "stream",
     "text": [
      "name               0.000122\n",
      "platform           0.000000\n",
      "year_of_release    0.000000\n",
      "genre              0.000122\n",
      "na_sales           0.000000\n",
      "eu_sales           0.000000\n",
      "jp_sales           0.000000\n",
      "other_sales        0.000000\n",
      "critic_score       0.514593\n",
      "user_score         0.401739\n",
      "rating             0.406056\n",
      "dtype: float64\n"
     ]
    }
   ],
   "source": [
    "print(df_proj_int_1.isna().mean())"
   ]
  },
  {
   "cell_type": "code",
   "execution_count": 11,
   "metadata": {},
   "outputs": [],
   "source": [
    "df_proj_int_1['year_of_release'] = df_proj_int_1['year_of_release'].astype('int')"
   ]
  },
  {
   "cell_type": "code",
   "execution_count": 12,
   "metadata": {
    "scrolled": false
   },
   "outputs": [],
   "source": [
    "df_proj_int_1['user_score'] = pd.to_numeric(df_proj_int_1['user_score'], errors='coerce')"
   ]
  },
  {
   "cell_type": "markdown",
   "metadata": {},
   "source": [
    "- como a quantidade de linhas com valores ausentes na coluna year_of_release era abaixa, resolvi remove-los para poder converter os dados para números inteiros\n",
    "- os valores ausentes nas colunas 'critic_score' e 'user_score' ficaram em branco, pois como é uma avaliação dos criticos ou dos usuários, não existe lógica para se definir um valor, pois são jogos e plataformar diferentes, ou seja, uma média ou um valor qualquer não seria válido\n",
    "- os valores ausentes em 'rating' ocorreram, possivelmente, por ainda não existir uma classificação para o jogo e assim como não item anterior, não existe lógica para se defeinir esse valor, pois além de ser jogos diferentes, essa coluna é uma string, não sendo possível fazer uma comparação ou uma média.\n",
    "- os casos como valor TBD também será deixado dessa maneira, pois assim como nos casos anteriores, os usuários ainda não deram uma nota para o jogo e a avaliação não pode ser comparada, não é possível fazer uma média e o resultado ser plausível"
   ]
  },
  {
   "cell_type": "code",
   "execution_count": 13,
   "metadata": {},
   "outputs": [
    {
     "name": "stdout",
     "output_type": "stream",
     "text": [
      "                                name platform  year_of_release         genre  \\\n",
      "0                         Wii Sports      Wii             2006        Sports   \n",
      "1                  Super Mario Bros.      NES             1985      Platform   \n",
      "2                     Mario Kart Wii      Wii             2008        Racing   \n",
      "3                  Wii Sports Resort      Wii             2009        Sports   \n",
      "4           Pokemon Red/Pokemon Blue       GB             1996  Role-Playing   \n",
      "...                              ...      ...              ...           ...   \n",
      "16441  Samurai Warriors: Sanada Maru      PS3             2016        Action   \n",
      "16442               LMA Manager 2007     X360             2006        Sports   \n",
      "16443        Haitaka no Psychedelica      PSV             2016     Adventure   \n",
      "16444               Spirits & Spells      GBA             2003      Platform   \n",
      "16445            Winning Post 8 2016      PSV             2016    Simulation   \n",
      "\n",
      "       na_sales  eu_sales  jp_sales  other_sales  critic_score  user_score  \\\n",
      "0         41.36     28.96      3.77         8.45          76.0         8.0   \n",
      "1         29.08      3.58      6.81         0.77           NaN         NaN   \n",
      "2         15.68     12.76      3.79         3.29          82.0         8.3   \n",
      "3         15.61     10.93      3.28         2.95          80.0         8.0   \n",
      "4         11.27      8.89     10.22         1.00           NaN         NaN   \n",
      "...         ...       ...       ...          ...           ...         ...   \n",
      "16441      0.00      0.00      0.01         0.00           NaN         NaN   \n",
      "16442      0.00      0.01      0.00         0.00           NaN         NaN   \n",
      "16443      0.00      0.00      0.01         0.00           NaN         NaN   \n",
      "16444      0.01      0.00      0.00         0.00           NaN         NaN   \n",
      "16445      0.00      0.00      0.01         0.00           NaN         NaN   \n",
      "\n",
      "      rating  total_sale  \n",
      "0          E       82.54  \n",
      "1        NaN       45.31  \n",
      "2          E       35.52  \n",
      "3          E       32.77  \n",
      "4        NaN       31.38  \n",
      "...      ...         ...  \n",
      "16441    NaN        0.05  \n",
      "16442    NaN        0.01  \n",
      "16443    NaN        0.01  \n",
      "16444    NaN        0.02  \n",
      "16445    NaN        0.03  \n",
      "\n",
      "[16446 rows x 12 columns]\n"
     ]
    }
   ],
   "source": [
    "total_sale = df_proj_int_1.groupby('name')[['na_sales', 'eu_sales', 'jp_sales', 'other_sales']].sum().reset_index()\n",
    "total_sale['total_sale'] = total_sale[['na_sales', 'eu_sales', 'jp_sales', 'other_sales']].sum(axis=1)\n",
    "total_sale = total_sale.drop(columns=['na_sales', 'eu_sales', 'jp_sales', 'other_sales'])\n",
    "\n",
    "df_proj_int_1 = df_proj_int_1.merge(total_sale, on='name', how='left')\n",
    "\n",
    "print(df_proj_int_1)\n",
    "                                                                         "
   ]
  },
  {
   "cell_type": "markdown",
   "metadata": {},
   "source": [
    "# Etapa 3 - analise os dados"
   ]
  },
  {
   "cell_type": "code",
   "execution_count": 14,
   "metadata": {
    "scrolled": false
   },
   "outputs": [
    {
     "name": "stdout",
     "output_type": "stream",
     "text": [
      "    year_of_release  total_year\n",
      "0              1980           9\n",
      "1              1981          46\n",
      "2              1982          36\n",
      "3              1983          17\n",
      "4              1984          14\n",
      "5              1985          14\n",
      "6              1986          21\n",
      "7              1987          16\n",
      "8              1988          15\n",
      "9              1989          17\n",
      "10             1990          16\n",
      "11             1991          41\n",
      "12             1992          43\n",
      "13             1993          60\n",
      "14             1994         121\n",
      "15             1995         219\n",
      "16             1996         263\n",
      "17             1997         289\n",
      "18             1998         379\n",
      "19             1999         338\n",
      "20             2000         350\n",
      "21             2001         482\n",
      "22             2002         829\n",
      "23             2003         775\n",
      "24             2004         762\n",
      "25             2005         939\n",
      "26             2006        1006\n",
      "27             2007        1197\n",
      "28             2008        1427\n",
      "29             2009        1426\n",
      "30             2010        1255\n",
      "31             2011        1136\n",
      "32             2012         653\n",
      "33             2013         544\n",
      "34             2014         581\n",
      "35             2015         606\n",
      "36             2016         502\n"
     ]
    },
    {
     "data": {
      "image/png": "[encoded data removed]",
      "text/plain": [
       "<Figure size 432x288 with 1 Axes>"
      ]
     },
     "metadata": {
      "needs_background": "light"
     },
     "output_type": "display_data"
    }
   ],
   "source": [
    "total_year = df_proj_int_1.groupby(by='year_of_release')['name'].count().reset_index()\n",
    "total_year = total_year.rename(columns={'name': 'total_year'})\n",
    "\n",
    "print(total_year)\n",
    "\n",
    "total_year.plot(x = 'year_of_release', y = 'total_year', kind='bar')\n",
    "plt.show()\n"
   ]
  },
  {
   "cell_type": "markdown",
   "metadata": {},
   "source": [
    "- os dados entre os anos 1980 até 1993 não são significativos, pois a quantidade de jogos é baixa"
   ]
  },
  {
   "cell_type": "code",
   "execution_count": 15,
   "metadata": {
    "scrolled": false
   },
   "outputs": [
    {
     "name": "stdout",
     "output_type": "stream",
     "text": [
      "   platform  total_sale\n",
      "28     X360     2608.56\n",
      "17      PS3     2524.78\n",
      "16      PS2     2117.97\n",
      "13       PC     1876.70\n",
      "26      Wii     1722.93\n",
      "4        DS     1501.03\n",
      "29       XB      947.31\n",
      "15       PS      883.65\n",
      "19      PSP      861.92\n",
      "7        GC      822.15\n",
      "18      PS4      801.80\n",
      "6       GBA      756.56\n",
      "30     XOne      741.58\n",
      "2       3DS      510.35\n",
      "27     WiiU      401.76\n",
      "5        GB      360.67\n",
      "10      N64      348.75\n",
      "11      NES      336.09\n",
      "20      PSV      278.38\n",
      "23     SNES      240.59\n",
      "0      2600      110.90\n",
      "21      SAT       58.83\n",
      "8       GEN       46.48\n",
      "3        DC       23.72\n",
      "25       WS        4.80\n",
      "12       NG        2.58\n",
      "22      SCD        1.86\n",
      "24     TG16        0.16\n",
      "1       3DO        0.10\n",
      "9        GG        0.04\n",
      "14     PCFX        0.03\n"
     ]
    }
   ],
   "source": [
    "total_platform = df_proj_int_1.groupby('platform')['total_sale'].sum().reset_index()\n",
    "total_platform = total_platform.sort_values(by='total_sale', ascending=False)\n",
    "print(total_platform)"
   ]
  },
  {
   "cell_type": "code",
   "execution_count": 16,
   "metadata": {
    "scrolled": true
   },
   "outputs": [
    {
     "data": {
      "text/plain": [
       "<AxesSubplot:>"
      ]
     },
     "execution_count": 16,
     "metadata": {},
     "output_type": "execute_result"
    },
    {
     "data": {
      "image/png": "[encoded data removed]",
      "text/plain": [
       "<Figure size 432x288 with 1 Axes>"
      ]
     },
     "metadata": {
      "needs_background": "light"
     },
     "output_type": "display_data"
    }
   ],
   "source": [
    "total_year = df_proj_int_1['platform'].value_counts().sort_index()\n",
    "total_year = total_year.sort_values(ascending=False)\n",
    "total_year.plot(kind='bar')\n",
    "\n",
    "# falta separar por ano"
   ]
  },
  {
   "cell_type": "code",
   "execution_count": 17,
   "metadata": {},
   "outputs": [
    {
     "name": "stdout",
     "output_type": "stream",
     "text": [
      "   platform  year_of_release  total_sales\n",
      "0       3DS             2013           91\n",
      "1       3DS             2014           80\n",
      "2       3DS             2015           86\n",
      "3       3DS             2016           46\n",
      "4        DS             2013            8\n",
      "5        PC             2013           38\n",
      "6        PC             2014           47\n",
      "7        PC             2015           50\n",
      "8        PC             2016           54\n",
      "9       PS3             2013          126\n",
      "10      PS3             2014          108\n",
      "11      PS3             2015           73\n",
      "12      PS3             2016           38\n",
      "13      PS4             2013           16\n",
      "14      PS4             2014           75\n",
      "15      PS4             2015          137\n",
      "16      PS4             2016          164\n",
      "17      PSP             2013           54\n",
      "18      PSP             2014           10\n",
      "19      PSP             2015            3\n",
      "20      PSV             2013           63\n",
      "21      PSV             2014          100\n",
      "22      PSV             2015          110\n",
      "23      PSV             2016           85\n",
      "24      Wii             2013           12\n",
      "25      Wii             2014            6\n",
      "26      Wii             2015            4\n",
      "27      Wii             2016            1\n",
      "28     WiiU             2013           42\n",
      "29     WiiU             2014           31\n",
      "30     WiiU             2015           28\n",
      "31     WiiU             2016           14\n",
      "32     X360             2013           75\n",
      "33     X360             2014           63\n",
      "34     X360             2015           35\n",
      "35     X360             2016           13\n",
      "36     XOne             2013           19\n",
      "37     XOne             2014           61\n",
      "38     XOne             2015           80\n",
      "39     XOne             2016           87\n"
     ]
    }
   ],
   "source": [
    "filtered_df = df_proj_int_1[df_proj_int_1['year_of_release'] >= 2013]\n",
    "filtered_df = filtered_df[filtered_df['year_of_release'] <= 2017]\n",
    "\n",
    "total_year_sale = filtered_df.groupby(['platform', 'year_of_release']).size().reset_index(name='total_sales')\n",
    "\n",
    "print(total_year_sale)"
   ]
  },
  {
   "cell_type": "code",
   "execution_count": 18,
   "metadata": {
    "scrolled": false
   },
   "outputs": [
    {
     "data": {
      "image/png": "[encoded data removed]",
      "text/plain": [
       "<Figure size 432x288 with 1 Axes>"
      ]
     },
     "metadata": {
      "needs_background": "light"
     },
     "output_type": "display_data"
    },
    {
     "data": {
      "image/png": "[encoded data removed]",
      "text/plain": [
       "<Figure size 432x288 with 1 Axes>"
      ]
     },
     "metadata": {
      "needs_background": "light"
     },
     "output_type": "display_data"
    },
    {
     "data": {
      "image/png": "[encoded data removed]",
      "text/plain": [
       "<Figure size 432x288 with 1 Axes>"
      ]
     },
     "metadata": {
      "needs_background": "light"
     },
     "output_type": "display_data"
    },
    {
     "data": {
      "image/png": "[encoded data removed]",
      "text/plain": [
       "<Figure size 432x288 with 1 Axes>"
      ]
     },
     "metadata": {
      "needs_background": "light"
     },
     "output_type": "display_data"
    },
    {
     "data": {
      "image/png": "[encoded data removed]",
      "text/plain": [
       "<Figure size 432x288 with 1 Axes>"
      ]
     },
     "metadata": {
      "needs_background": "light"
     },
     "output_type": "display_data"
    },
    {
     "data": {
      "image/png": "[encoded data removed]",
      "text/plain": [
       "<Figure size 432x288 with 1 Axes>"
      ]
     },
     "metadata": {
      "needs_background": "light"
     },
     "output_type": "display_data"
    },
    {
     "data": {
      "image/png": "[encoded data removed]",
      "text/plain": [
       "<Figure size 432x288 with 1 Axes>"
      ]
     },
     "metadata": {
      "needs_background": "light"
     },
     "output_type": "display_data"
    },
    {
     "data": {
      "image/png": "[encoded data removed]",
      "text/plain": [
       "<Figure size 432x288 with 1 Axes>"
      ]
     },
     "metadata": {
      "needs_background": "light"
     },
     "output_type": "display_data"
    },
    {
     "data": {
      "image/png": "[encoded data removed]",
      "text/plain": [
       "<Figure size 432x288 with 1 Axes>"
      ]
     },
     "metadata": {
      "needs_background": "light"
     },
     "output_type": "display_data"
    },
    {
     "data": {
      "image/png": "[encoded data removed]",
      "text/plain": [
       "<Figure size 432x288 with 1 Axes>"
      ]
     },
     "metadata": {
      "needs_background": "light"
     },
     "output_type": "display_data"
    },
    {
     "data": {
      "image/png": "[encoded data removed]",
      "text/plain": [
       "<Figure size 432x288 with 1 Axes>"
      ]
     },
     "metadata": {
      "needs_background": "light"
     },
     "output_type": "display_data"
    }
   ],
   "source": [
    "for platform in total_year_sale['platform'].unique():\n",
    "    platform_data = total_year_sale[total_year_sale['platform'] == platform]\n",
    "    platform_data.plot(x='year_of_release', y='total_sales', kind='bar')\n",
    "    plt.title(platform)\n",
    "    plt.show()"
   ]
  },
  {
   "cell_type": "markdown",
   "metadata": {},
   "source": [
    "- como foi filtrado apenas para jogos lançados depois de 2013, varias plataformas já não são mais vendidas\n",
    "- então os gráficos acima mostram apenas as plataformas mais atuais e como esta as vendas\n",
    "- analisando os gráficos, é possível perceber que as plataformas PC, PS4 e XOne são as únicas que estão em crescimento"
   ]
  },
  {
   "cell_type": "code",
   "execution_count": 19,
   "metadata": {},
   "outputs": [
    {
     "name": "stdout",
     "output_type": "stream",
     "text": [
      "<class 'pandas.core.frame.DataFrame'>\n",
      "RangeIndex: 40 entries, 0 to 39\n",
      "Data columns (total 3 columns):\n",
      " #   Column           Non-Null Count  Dtype \n",
      "---  ------           --------------  ----- \n",
      " 0   platform         40 non-null     object\n",
      " 1   year_of_release  40 non-null     int64 \n",
      " 2   total_sales      40 non-null     int64 \n",
      "dtypes: int64(2), object(1)\n",
      "memory usage: 1.1+ KB\n"
     ]
    }
   ],
   "source": [
    "total_year_sale.info()"
   ]
  },
  {
   "cell_type": "code",
   "execution_count": 20,
   "metadata": {
    "scrolled": true
   },
   "outputs": [
    {
     "name": "stdout",
     "output_type": "stream",
     "text": [
      "   platform  total_sales\n",
      "0       3DS    75.750000\n",
      "1        DS     8.000000\n",
      "2        PC    47.250000\n",
      "3       PS3    86.250000\n",
      "4       PS4    98.000000\n",
      "5       PSP    22.333333\n",
      "6       PSV    89.500000\n",
      "7       Wii     5.750000\n",
      "8      WiiU    28.750000\n",
      "9      X360    46.500000\n",
      "10     XOne    61.750000\n"
     ]
    }
   ],
   "source": [
    "mean_sale = total_year_sale.groupby('platform')['total_sales'].mean().reset_index()\n",
    "print(mean_sale)"
   ]
  },
  {
   "cell_type": "code",
   "execution_count": 21,
   "metadata": {
    "scrolled": false
   },
   "outputs": [
    {
     "data": {
      "image/png": "[encoded data removed]",
      "text/plain": [
       "<Figure size 1440x720 with 1 Axes>"
      ]
     },
     "metadata": {
      "needs_background": "light"
     },
     "output_type": "display_data"
    }
   ],
   "source": [
    "box_sale = total_year_sale.groupby(['platform', 'total_sales']).mean().reset_index()\n",
    "\n",
    "data_dict = {}\n",
    "\n",
    "for platform, group in box_sale.groupby('platform'):\n",
    "    data_dict[platform] = group['total_sales']\n",
    "\n",
    "plt.figure(figsize=(20, 10))\n",
    "plt.boxplot(data_dict.values(), labels=data_dict.keys())\n",
    "plt.title('Diagrama de Caixa das Vendas Globais de Jogos por Plataforma e Total de Vendas')\n",
    "plt.xlabel('Plataforma')\n",
    "plt.ylabel('Vendas Globais')\n",
    "\n",
    "plt.show()"
   ]
  },
  {
   "cell_type": "code",
   "execution_count": 22,
   "metadata": {},
   "outputs": [
    {
     "name": "stdout",
     "output_type": "stream",
     "text": [
      "   platform   min   max  duration\n",
      "0      2600  1980  1989         9\n",
      "1       3DO  1994  1995         1\n",
      "2       3DS  2011  2016         5\n",
      "3        DC  1998  2008        10\n",
      "4        DS  1985  2013        28\n",
      "5        GB  1988  2001        13\n",
      "6       GBA  2000  2007         7\n",
      "7        GC  2001  2007         6\n",
      "8       GEN  1990  1994         4\n",
      "9        GG  1992  1992         0\n",
      "10      N64  1996  2002         6\n",
      "11      NES  1983  1994        11\n",
      "12       NG  1993  1996         3\n",
      "13       PC  1985  2016        31\n",
      "14     PCFX  1996  1996         0\n",
      "15       PS  1994  2003         9\n",
      "16      PS2  2000  2011        11\n",
      "17      PS3  2006  2016        10\n",
      "18      PS4  2013  2016         3\n",
      "19      PSP  2004  2015        11\n",
      "20      PSV  2011  2016         5\n",
      "21      SAT  1994  1999         5\n",
      "22      SCD  1993  1994         1\n",
      "23     SNES  1990  1999         9\n",
      "24     TG16  1995  1995         0\n",
      "25       WS  1999  2001         2\n",
      "26      Wii  2006  2016        10\n",
      "27     WiiU  2012  2016         4\n",
      "28     X360  2005  2016        11\n",
      "29       XB  2000  2008         8\n",
      "30     XOne  2013  2016         3\n"
     ]
    }
   ],
   "source": [
    "duration_df = df_proj_int_1.groupby('platform')['year_of_release'].agg(['min', 'max']).reset_index()\n",
    "\n",
    "duration_df['duration'] = duration_df['max'] - duration_df['min']\n",
    "print(duration_df)\n"
   ]
  },
  {
   "cell_type": "code",
   "execution_count": 23,
   "metadata": {
    "scrolled": false
   },
   "outputs": [
    {
     "name": "stdout",
     "output_type": "stream",
     "text": [
      "duration    7.612903\n",
      "dtype: float64\n",
      "duration    6.0\n",
      "dtype: float64\n"
     ]
    }
   ],
   "source": [
    "mean_duration = duration_df[['duration', 'platform']].mean()\n",
    "median_duration = duration_df[['duration', 'platform']].median()\n",
    "print(mean_duration)\n",
    "print(median_duration)"
   ]
  },
  {
   "cell_type": "markdown",
   "metadata": {},
   "source": [
    "- a média é bem diferente do mediana\n",
    "- o que mostra que existem plataformas que duram muito mais que as outras"
   ]
  },
  {
   "cell_type": "code",
   "execution_count": 24,
   "metadata": {
    "scrolled": true
   },
   "outputs": [
    {
     "data": {
      "image/png": "[encoded data removed]",
      "text/plain": [
       "<Figure size 432x288 with 1 Axes>"
      ]
     },
     "metadata": {
      "needs_background": "light"
     },
     "output_type": "display_data"
    }
   ],
   "source": [
    "plot_duration = duration_df['duration'].plot(x = 'platform', y = 'year_of_release', kind = 'bar', xlabel = 'Plataformas')\n",
    "plot_duration.set_xticklabels(duration_df['platform'], rotation=90) \n",
    "plt.show()"
   ]
  },
  {
   "cell_type": "code",
   "execution_count": 25,
   "metadata": {
    "scrolled": false
   },
   "outputs": [
    {
     "name": "stdout",
     "output_type": "stream",
     "text": [
      "platform\n",
      "3DS     75.750000\n",
      "DS       8.000000\n",
      "PC      47.250000\n",
      "PS3     86.250000\n",
      "PS4     98.000000\n",
      "PSP     22.333333\n",
      "PSV     89.500000\n",
      "Wii      5.750000\n",
      "WiiU    28.750000\n",
      "X360    46.500000\n",
      "XOne    61.750000\n",
      "Name: total_sales, dtype: float64\n",
      "platform\n",
      "3DS     20.336748\n",
      "DS            NaN\n",
      "PC       6.800735\n",
      "PS3     38.973281\n",
      "PS4     66.156380\n",
      "PSP     27.646579\n",
      "PSV     20.436895\n",
      "Wii      4.645787\n",
      "WiiU    11.528949\n",
      "X360    27.922512\n",
      "XOne    30.543685\n",
      "Name: total_sales, dtype: float64\n"
     ]
    }
   ],
   "source": [
    "sale_mean = total_year_sale.groupby('platform')['total_sales'].mean()\n",
    "\n",
    "print(sale_mean)\n",
    "\n",
    "sale_desvio = total_year_sale.groupby('platform')['total_sales'].std()\n",
    "\n",
    "print(sale_desvio)"
   ]
  },
  {
   "cell_type": "markdown",
   "metadata": {},
   "source": [
    "- as maiores médias de vendas não são as que estão com mais vendas atualmente, pois as novas plataformas estão em crescimento de vendas, porém como são mais recentes, tiverem menos anos de vendas\n",
    "- com isso, é possivel concluir que fazendo a média para todo o periodo, não necessariamente a maior média é a mais lucrativa atualmente"
   ]
  },
  {
   "cell_type": "code",
   "execution_count": 26,
   "metadata": {
    "scrolled": true
   },
   "outputs": [
    {
     "name": "stdout",
     "output_type": "stream",
     "text": [
      "    user_score  total_sale\n",
      "0          0.0    0.720000\n",
      "1          0.2    1.650000\n",
      "2          0.3    0.365000\n",
      "3          0.5    0.595000\n",
      "4          0.6    0.580000\n",
      "..         ...         ...\n",
      "90         9.3    1.463871\n",
      "91         9.4    1.876364\n",
      "92         9.5    0.346000\n",
      "93         9.6    0.365000\n",
      "94         9.7    1.040000\n",
      "\n",
      "[95 rows x 2 columns]\n"
     ]
    }
   ],
   "source": [
    "df_proj_int_1.dropna(subset=['user_score'], inplace=True)\n",
    "user_scores = df_proj_int_1.groupby('user_score')['total_sale'].mean().reset_index()\n",
    "print(user_scores)"
   ]
  },
  {
   "cell_type": "code",
   "execution_count": 27,
   "metadata": {
    "scrolled": true
   },
   "outputs": [
    {
     "data": {
      "text/plain": [
       "<Figure size 1296x432 with 0 Axes>"
      ]
     },
     "metadata": {},
     "output_type": "display_data"
    },
    {
     "data": {
      "image/png": "[encoded data removed]",
      "text/plain": [
       "<Figure size 1296x432 with 1 Axes>"
      ]
     },
     "metadata": {
      "needs_background": "light"
     },
     "output_type": "display_data"
    }
   ],
   "source": [
    "df_proj_int_1.dropna(subset=['user_score'], inplace=True)\n",
    "\n",
    "platform = 'PS4'\n",
    "platform_user_ps4 = df_proj_int_1[df_proj_int_1['platform'] == platform]\n",
    "platform_user_ps4 = platform_user_ps4.sort_values('user_score')\n",
    "plt.figure(figsize=(18, 6))\n",
    "platform_user_ps4.plot(x='user_score', y='total_sale', kind='scatter', figsize=(18, 6))\n",
    "plt.xticks(rotation=90)\n",
    "plt.title('platform')\n",
    "plt.show()\n"
   ]
  },
  {
   "cell_type": "code",
   "execution_count": 28,
   "metadata": {
    "scrolled": true
   },
   "outputs": [
    {
     "data": {
      "text/plain": [
       "<Figure size 1296x432 with 0 Axes>"
      ]
     },
     "metadata": {},
     "output_type": "display_data"
    },
    {
     "data": {
      "image/png": "[encoded data removed]",
      "text/plain": [
       "<Figure size 1296x432 with 1 Axes>"
      ]
     },
     "metadata": {
      "needs_background": "light"
     },
     "output_type": "display_data"
    }
   ],
   "source": [
    "df_proj_int_1.dropna(subset=['user_score'], inplace=True)\n",
    "\n",
    "platform = 'WiiU'\n",
    "platform_user_wiiu = df_proj_int_1[df_proj_int_1['platform'] == platform]\n",
    "platform_user_wiiu = platform_user_wiiu.sort_values('user_score')\n",
    "plt.figure(figsize=(18, 6))\n",
    "platform_user_wiiu.plot(x='user_score', y='total_sale', kind='scatter', figsize=(18, 6))\n",
    "plt.xticks(rotation=90)\n",
    "plt.title('platform')\n",
    "plt.show()"
   ]
  },
  {
   "cell_type": "markdown",
   "metadata": {},
   "source": [
    "- as duas plataformas foram escolhidas acima, devido as vendas estarem em crescimento\n",
    "- o gráfico de dispersão mostra que as avaliações afetam a quantidade de venda, porém a partir de uma certa nota (acima de 6), a avaliação afeta pouco "
   ]
  },
  {
   "cell_type": "code",
   "execution_count": 29,
   "metadata": {},
   "outputs": [
    {
     "name": "stdout",
     "output_type": "stream",
     "text": [
      "    critic_score  total_sale\n",
      "0           13.0    0.100000\n",
      "1           17.0    0.260000\n",
      "2           19.0    0.260000\n",
      "3           20.0    1.150000\n",
      "4           21.0    0.120000\n",
      "..           ...         ...\n",
      "76          94.0    7.091667\n",
      "77          95.0    9.707500\n",
      "78          96.0    9.885000\n",
      "79          97.0   25.157273\n",
      "80          98.0   12.925000\n",
      "\n",
      "[81 rows x 2 columns]\n"
     ]
    }
   ],
   "source": [
    "df_proj_int_1.dropna(subset=['critic_score'], inplace=True)\n",
    "critic_scores = df_proj_int_1.groupby('critic_score')['total_sale'].mean().reset_index()\n",
    "print(critic_scores)"
   ]
  },
  {
   "cell_type": "code",
   "execution_count": 30,
   "metadata": {
    "scrolled": true
   },
   "outputs": [
    {
     "data": {
      "text/plain": [
       "<Figure size 1296x432 with 0 Axes>"
      ]
     },
     "metadata": {},
     "output_type": "display_data"
    },
    {
     "data": {
      "image/png": "[encoded data removed]",
      "text/plain": [
       "<Figure size 1296x432 with 1 Axes>"
      ]
     },
     "metadata": {
      "needs_background": "light"
     },
     "output_type": "display_data"
    }
   ],
   "source": [
    "df_proj_int_1.dropna(subset=['critic_score'], inplace=True)\n",
    "\n",
    "platform = 'PS4'\n",
    "platform_critic_ps4 = df_proj_int_1[df_proj_int_1['platform'] == platform]\n",
    "platform_critic_ps4 = platform_critic_ps4.sort_values('critic_score')\n",
    "plt.figure(figsize=(18, 6))\n",
    "platform_critic_ps4.plot(x='critic_score', y='total_sale', kind='scatter', figsize=(18, 6))\n",
    "plt.xticks(rotation=90)\n",
    "plt.title('platform')\n",
    "plt.show()"
   ]
  },
  {
   "cell_type": "code",
   "execution_count": 31,
   "metadata": {},
   "outputs": [
    {
     "data": {
      "text/plain": [
       "<Figure size 1296x432 with 0 Axes>"
      ]
     },
     "metadata": {},
     "output_type": "display_data"
    },
    {
     "data": {
      "image/png": "[encoded data removed]",
      "text/plain": [
       "<Figure size 1296x432 with 1 Axes>"
      ]
     },
     "metadata": {
      "needs_background": "light"
     },
     "output_type": "display_data"
    }
   ],
   "source": [
    "df_proj_int_1.dropna(subset=['critic_score'], inplace=True)\n",
    "\n",
    "platform = 'WiiU'\n",
    "platform_critic_wiiu = df_proj_int_1[df_proj_int_1['platform'] == platform]\n",
    "platform_critic_wiiu = platform_critic_wiiu.sort_values('critic_score')\n",
    "plt.figure(figsize=(18, 6))\n",
    "platform_critic_wiiu.plot(x='critic_score', y='total_sale', kind='scatter', figsize=(18, 6))\n",
    "plt.xticks(rotation=90)\n",
    "plt.title('platform')\n",
    "plt.show()"
   ]
  },
  {
   "cell_type": "markdown",
   "metadata": {},
   "source": [
    "- aqui foram escolhidos as mesmas duas plataformas\n",
    "- em relção as avaliações dos críticos, a relação é mais com a quantidade de vendas\n",
    "- ou seja, quanto maior a nota dos críticos, mais é a venda\n",
    "- porém também é possivel ver alguns pontos muito acima no número de vendas que não está relacionada com a nota"
   ]
  },
  {
   "cell_type": "markdown",
   "metadata": {},
   "source": [
    "- resolvi não fazer o projeto até o final, pois como não sei se estou indo para o caminho certo\n",
    "- e como estou com um pouco de dificuldade na continuidade, parei para saber qual caminho seguir"
   ]
  },
  {
   "cell_type": "code",
   "execution_count": 32,
   "metadata": {},
   "outputs": [
    {
     "name": "stdout",
     "output_type": "stream",
     "text": [
      "0.2743977675604708\n"
     ]
    }
   ],
   "source": [
    "corr_critic = df_proj_int_1['critic_score'].corr(df_proj_int_1['total_sale'])  \n",
    "print(corr_critic)"
   ]
  },
  {
   "cell_type": "code",
   "execution_count": 33,
   "metadata": {},
   "outputs": [
    {
     "name": "stdout",
     "output_type": "stream",
     "text": [
      "0.00577507721548819\n"
     ]
    }
   ],
   "source": [
    "corr_user = df_proj_int_1['user_score'].corr(df_proj_int_1['total_sale'])  \n",
    "print(corr_user)"
   ]
  },
  {
   "cell_type": "markdown",
   "metadata": {},
   "source": [
    "- a correlação das revisões dos críticos e as vendas é baixa, porém pode influenciar\n",
    "- já a correlação das revisões dos usuários e as vendas é bem  baixa, então dificilmente irá influenciar nas vendas"
   ]
  },
  {
   "cell_type": "code",
   "execution_count": 34,
   "metadata": {
    "scrolled": false
   },
   "outputs": [
    {
     "name": "stdout",
     "output_type": "stream",
     "text": [
      "genre\n",
      "Action          3871.41\n",
      "Sports          2357.89\n",
      "Shooter         2281.25\n",
      "Racing          1143.25\n",
      "Role-Playing     868.80\n",
      "Misc             847.15\n",
      "Platform         704.16\n",
      "Fighting         557.82\n",
      "Simulation       407.03\n",
      "Adventure        149.89\n",
      "Strategy         113.58\n",
      "Puzzle            93.21\n",
      "Name: total_sale, dtype: float64\n"
     ]
    }
   ],
   "source": [
    "genre_sale = df_proj_int_1.groupby('genre')['total_sale'].sum()\n",
    "genre_sale = genre_sale.sort_values(ascending=False)\n",
    "print(genre_sale)"
   ]
  },
  {
   "cell_type": "code",
   "execution_count": 35,
   "metadata": {
    "scrolled": true
   },
   "outputs": [
    {
     "name": "stdout",
     "output_type": "stream",
     "text": [
      "genre     platform\n",
      "Action    3DS          98.86\n",
      "          DS          157.06\n",
      "          GBA          92.63\n",
      "          GC          182.82\n",
      "          PC          561.38\n",
      "                       ...  \n",
      "Strategy  Wii           2.48\n",
      "          WiiU          1.12\n",
      "          X360         16.52\n",
      "          XB            3.19\n",
      "          XOne          2.14\n",
      "Name: total_sale, Length: 197, dtype: float64\n"
     ]
    }
   ],
   "source": [
    "platform_genre = df_proj_int_1.groupby(['genre', 'platform'])['total_sale'].sum()\n",
    "print(platform_genre)"
   ]
  },
  {
   "cell_type": "code",
   "execution_count": 36,
   "metadata": {},
   "outputs": [
    {
     "name": "stdout",
     "output_type": "stream",
     "text": [
      "genre    platform\n",
      "Action   3DS          98.86\n",
      "         PC          561.38\n",
      "         PS4         201.26\n",
      "         WiiU        121.70\n",
      "         XOne        154.33\n",
      "Racing   3DS          16.14\n",
      "         PC          120.56\n",
      "         PS4          14.75\n",
      "         WiiU          7.09\n",
      "         XOne         19.31\n",
      "Shooter  3DS           1.03\n",
      "         PC          424.97\n",
      "         PS4         153.14\n",
      "         WiiU         63.41\n",
      "         XOne        161.38\n",
      "Sports   3DS           2.19\n",
      "         PC          142.24\n",
      "         PS4         134.11\n",
      "         WiiU         14.50\n",
      "         XOne        131.07\n",
      "Name: total_sale, dtype: float64\n"
     ]
    }
   ],
   "source": [
    "genres = ['Action', 'Sports', 'Shooter', 'Racing']\n",
    "platforms_sale = ['PC', 'PS4', 'XOne', '3DS', 'WiiU']\n",
    "filtered_genres = df_proj_int_1[df_proj_int_1['genre'].isin(genres)]\n",
    "filtered_platforms = filtered_genres[filtered_genres['platform'].isin(platforms_sale)]\n",
    "platform_genre = filtered_platforms.groupby(['genre', 'platform'])['total_sale'].sum()\n",
    "print(platform_genre)\n"
   ]
  },
  {
   "cell_type": "markdown",
   "metadata": {},
   "source": [
    "- os gêneros mais lucrativos são Action, Sports, Shooter e Racing\n",
    "- dentro desse foram selecionados as 5 principais plataformas\n",
    "- em todos os gêneros, a plataforma PC sempre é a que mais vende\n",
    "- ou seja, o tipo de plataforma interfere nas quantidade de vendas\n"
   ]
  },
  {
   "cell_type": "markdown",
   "metadata": {},
   "source": [
    "# Etapa 4 - Crie um perfil para cada região"
   ]
  },
  {
   "cell_type": "code",
   "execution_count": 37,
   "metadata": {
    "scrolled": true
   },
   "outputs": [
    {
     "name": "stdout",
     "output_type": "stream",
     "text": [
      "platform\n",
      "3DS     48.67\n",
      "PC      63.88\n",
      "PS4     84.46\n",
      "WiiU    30.69\n",
      "XOne    76.03\n",
      "Name: na_sales, dtype: float64\n"
     ]
    }
   ],
   "source": [
    "platforms_sale = ['PC', 'PS4', 'XOne', '3DS', 'WiiU']\n",
    "filtered_platforms = df_proj_int_1[df_proj_int_1['platform'].isin(platforms_sale)]\n",
    "sales_na = filtered_platforms.groupby('platform')['na_sales'].sum()\n",
    "print(sales_na)"
   ]
  },
  {
   "cell_type": "code",
   "execution_count": 38,
   "metadata": {},
   "outputs": [
    {
     "name": "stdout",
     "output_type": "stream",
     "text": [
      "platform\n",
      "3DS      33.33\n",
      "PC      107.62\n",
      "PS4     112.44\n",
      "WiiU     20.42\n",
      "XOne     42.23\n",
      "Name: eu_sales, dtype: float64\n"
     ]
    }
   ],
   "source": [
    "platforms_sale = ['PC', 'PS4', 'XOne', '3DS', 'WiiU']\n",
    "filtered_platforms = df_proj_int_1[df_proj_int_1['platform'].isin(platforms_sale)]\n",
    "sales_eu = filtered_platforms.groupby('platform')['eu_sales'].sum()\n",
    "print(sales_eu)"
   ]
  },
  {
   "cell_type": "code",
   "execution_count": 39,
   "metadata": {},
   "outputs": [
    {
     "name": "stdout",
     "output_type": "stream",
     "text": [
      "platform\n",
      "3DS     33.87\n",
      "PC       0.17\n",
      "PS4      9.43\n",
      "WiiU    10.17\n",
      "XOne     0.29\n",
      "Name: jp_sales, dtype: float64\n"
     ]
    }
   ],
   "source": [
    "platforms_sale = ['PC', 'PS4', 'XOne', '3DS', 'WiiU']\n",
    "filtered_platforms = df_proj_int_1[df_proj_int_1['platform'].isin(platforms_sale)]\n",
    "sales_jp = filtered_platforms.groupby('platform')['jp_sales'].sum()\n",
    "print(sales_jp)"
   ]
  },
  {
   "cell_type": "code",
   "execution_count": 40,
   "metadata": {},
   "outputs": [
    {
     "name": "stdout",
     "output_type": "stream",
     "text": [
      "genre         platform\n",
      "Action        3DS         13.99\n",
      "              PC           7.62\n",
      "              PS4         26.41\n",
      "              WiiU         6.92\n",
      "              XOne        16.52\n",
      "Adventure     3DS          0.78\n",
      "              PC           0.11\n",
      "              PS4          0.97\n",
      "              WiiU         0.03\n",
      "              XOne         0.68\n",
      "Fighting      3DS          1.13\n",
      "              PC           0.01\n",
      "              PS4          2.84\n",
      "              WiiU         0.59\n",
      "              XOne         1.56\n",
      "Misc          3DS          1.79\n",
      "              PC           1.69\n",
      "              PS4          1.23\n",
      "              WiiU         5.13\n",
      "              XOne         2.72\n",
      "Platform      3DS         11.37\n",
      "              PC           0.05\n",
      "              PS4          1.95\n",
      "              WiiU         9.85\n",
      "              XOne         0.29\n",
      "Puzzle        3DS          0.73\n",
      "              PC           0.03\n",
      "              PS4          0.00\n",
      "              WiiU         0.62\n",
      "Racing        3DS          5.61\n",
      "              PC           0.25\n",
      "              PS4          2.06\n",
      "              WiiU         3.15\n",
      "              XOne         3.97\n",
      "Role-Playing  3DS          7.17\n",
      "              PC          15.98\n",
      "              PS4          6.06\n",
      "              WiiU         0.56\n",
      "              XOne         5.04\n",
      "Shooter       3DS          0.56\n",
      "              PC          14.56\n",
      "              PS4         22.89\n",
      "              WiiU         2.13\n",
      "              XOne        29.61\n",
      "Simulation    3DS          4.05\n",
      "              PC          15.27\n",
      "              PS4          0.11\n",
      "              WiiU         0.14\n",
      "              XOne         0.00\n",
      "Sports        3DS          0.88\n",
      "              PC           0.27\n",
      "              PS4         19.77\n",
      "              WiiU         1.13\n",
      "              XOne        15.51\n",
      "Strategy      3DS          0.61\n",
      "              PC           8.04\n",
      "              PS4          0.17\n",
      "              WiiU         0.44\n",
      "              XOne         0.13\n",
      "Name: na_sales, dtype: float64\n"
     ]
    }
   ],
   "source": [
    "platform_genre_na = filtered_platforms.groupby(['genre', 'platform'])['na_sales'].sum()\n",
    "print(platform_genre_na)"
   ]
  },
  {
   "cell_type": "code",
   "execution_count": 41,
   "metadata": {},
   "outputs": [
    {
     "name": "stdout",
     "output_type": "stream",
     "text": [
      "genre         platform\n",
      "Action        3DS          8.41\n",
      "              PC          15.36\n",
      "              PS4         35.66\n",
      "              WiiU         4.81\n",
      "              XOne        10.11\n",
      "Adventure     3DS          0.46\n",
      "              PC           1.58\n",
      "              PS4          1.55\n",
      "              WiiU         0.05\n",
      "              XOne         0.76\n",
      "Fighting      3DS          0.84\n",
      "              PC           0.11\n",
      "              PS4          2.40\n",
      "              WiiU         0.34\n",
      "              XOne         0.48\n",
      "Misc          3DS          1.21\n",
      "              PC           1.19\n",
      "              PS4          1.15\n",
      "              WiiU         3.39\n",
      "              XOne         0.99\n",
      "Platform      3DS          8.41\n",
      "              PC           0.33\n",
      "              PS4          2.84\n",
      "              WiiU         6.27\n",
      "              XOne         0.28\n",
      "Puzzle        3DS          1.02\n",
      "              PC           0.13\n",
      "              PS4          0.02\n",
      "              WiiU         0.38\n",
      "Racing        3DS          4.45\n",
      "              PC           2.59\n",
      "              PS4          5.49\n",
      "              WiiU         2.15\n",
      "              XOne         4.11\n",
      "Role-Playing  3DS          3.10\n",
      "              PC          24.32\n",
      "              PS4          8.01\n",
      "              WiiU         0.42\n",
      "              XOne         2.75\n",
      "Shooter       3DS          0.27\n",
      "              PC          18.28\n",
      "              PS4         28.83\n",
      "              WiiU         1.57\n",
      "              XOne        14.03\n",
      "Simulation    3DS          4.40\n",
      "              PC          22.35\n",
      "              PS4          0.47\n",
      "              WiiU         0.04\n",
      "              XOne         0.01\n",
      "Sports        3DS          0.56\n",
      "              PC           6.47\n",
      "              PS4         25.81\n",
      "              WiiU         0.68\n",
      "              XOne         8.65\n",
      "Strategy      3DS          0.20\n",
      "              PC          14.91\n",
      "              PS4          0.21\n",
      "              WiiU         0.32\n",
      "              XOne         0.06\n",
      "Name: eu_sales, dtype: float64\n"
     ]
    }
   ],
   "source": [
    "platform_genre_eu = filtered_platforms.groupby(['genre', 'platform'])['eu_sales'].sum()\n",
    "print(platform_genre_eu)"
   ]
  },
  {
   "cell_type": "code",
   "execution_count": 42,
   "metadata": {
    "scrolled": false
   },
   "outputs": [
    {
     "name": "stdout",
     "output_type": "stream",
     "text": [
      "genre         platform\n",
      "Action        3DS         6.60\n",
      "              PC          0.00\n",
      "              PS4         3.40\n",
      "              WiiU        0.77\n",
      "              XOne        0.05\n",
      "Adventure     3DS         0.66\n",
      "              PC          0.00\n",
      "              PS4         0.14\n",
      "              WiiU        0.00\n",
      "              XOne        0.02\n",
      "Fighting      3DS         0.46\n",
      "              PC          0.00\n",
      "              PS4         0.54\n",
      "              WiiU        0.19\n",
      "              XOne        0.00\n",
      "Misc          3DS         1.22\n",
      "              PC          0.00\n",
      "              PS4         0.04\n",
      "              WiiU        1.64\n",
      "              XOne        0.01\n",
      "Platform      3DS         5.94\n",
      "              PC          0.00\n",
      "              PS4         0.45\n",
      "              WiiU        3.68\n",
      "              XOne        0.00\n",
      "Puzzle        3DS         0.75\n",
      "              PC          0.00\n",
      "              PS4         0.00\n",
      "              WiiU        0.20\n",
      "Racing        3DS         2.83\n",
      "              PC          0.00\n",
      "              PS4         0.17\n",
      "              WiiU        1.28\n",
      "              XOne        0.05\n",
      "Role-Playing  3DS         7.67\n",
      "              PC          0.00\n",
      "              PS4         1.58\n",
      "              WiiU        0.19\n",
      "              XOne        0.01\n",
      "Shooter       3DS         0.13\n",
      "              PC          0.17\n",
      "              PS4         2.21\n",
      "              WiiU        1.54\n",
      "              XOne        0.13\n",
      "Simulation    3DS         6.93\n",
      "              PC          0.00\n",
      "              PS4         0.06\n",
      "              WiiU        0.00\n",
      "              XOne        0.00\n",
      "Sports        3DS         0.62\n",
      "              PC          0.00\n",
      "              PS4         0.82\n",
      "              WiiU        0.39\n",
      "              XOne        0.02\n",
      "Strategy      3DS         0.06\n",
      "              PC          0.00\n",
      "              PS4         0.02\n",
      "              WiiU        0.29\n",
      "              XOne        0.00\n",
      "Name: jp_sales, dtype: float64\n"
     ]
    }
   ],
   "source": [
    "platform_genre_jp = filtered_platforms.groupby(['genre', 'platform'])['jp_sales'].sum()\n",
    "print(platform_genre_jp)"
   ]
  },
  {
   "cell_type": "markdown",
   "metadata": {},
   "source": [
    "- é possível perceber que existe relação entre a região, a plataforma e a quantidade de vendas\n",
    "- com exceção do XOne, todas as demais plataformas, as maiores vendas são nas mesmas regiões\n",
    "- por exemplo, na plataforma PC, as maiores vendas são sempre na regiao EU\n",
    "- já na plataforma WiiU, as maiores vendas são sempre na região NA"
   ]
  },
  {
   "cell_type": "code",
   "execution_count": 43,
   "metadata": {},
   "outputs": [
    {
     "name": "stdout",
     "output_type": "stream",
     "text": [
      "0\n"
     ]
    }
   ],
   "source": [
    "user_tbd = ['tbd']\n",
    "filtered_na = df_proj_int_1[df_proj_int_1['user_score'].isin(user_tbd)]\n",
    "user_na = filtered_na['na_sales'].count()\n",
    "print(user_na)"
   ]
  },
  {
   "cell_type": "code",
   "execution_count": 44,
   "metadata": {
    "scrolled": true
   },
   "outputs": [
    {
     "name": "stdout",
     "output_type": "stream",
     "text": [
      "0\n"
     ]
    }
   ],
   "source": [
    "user_tbd = ['tbd']\n",
    "filtered_eu = df_proj_int_1[df_proj_int_1['user_score'].isin(user_tbd)]\n",
    "user_eu = filtered_eu['na_sales'].count()\n",
    "print(user_eu)"
   ]
  },
  {
   "cell_type": "code",
   "execution_count": 45,
   "metadata": {},
   "outputs": [
    {
     "name": "stdout",
     "output_type": "stream",
     "text": [
      "0\n"
     ]
    }
   ],
   "source": [
    "user_tbd = ['tbd']\n",
    "filtered_jp = df_proj_int_1[df_proj_int_1['user_score'].isin(user_tbd)]\n",
    "user_jp = filtered_jp['jp_sales'].count()\n",
    "print(user_jp)"
   ]
  },
  {
   "cell_type": "markdown",
   "metadata": {},
   "source": [
    "- eu sei que existe valores na coluna user_score com valor 'tbd', porém não estou conseguindo usar uma fórmula para conta-los"
   ]
  },
  {
   "cell_type": "code",
   "execution_count": 46,
   "metadata": {},
   "outputs": [
    {
     "data": {
      "text/plain": [
       "0"
      ]
     },
     "execution_count": 46,
     "metadata": {},
     "output_type": "execute_result"
    }
   ],
   "source": [
    "df_proj_int_1['user_score'].isna().sum()"
   ]
  },
  {
   "cell_type": "code",
   "execution_count": 47,
   "metadata": {},
   "outputs": [
    {
     "data": {
      "text/plain": [
       "array([8. , 8.3, 8.5, 6.6, 8.4, 8.6, 7.7, 6.3, 7.4, 8.2, 9. , 7.9, 8.1,\n",
       "       8.7, 7.1, 3.4, 5.3, 4.8, 3.2, 8.9, 6.4, 7.8, 7.5, 2.6, 7.2, 9.2,\n",
       "       7. , 7.3, 4.3, 7.6, 5.7, 5. , 9.1, 6.5, 8.8, 6.9, 9.4, 6.8, 6.1,\n",
       "       6.7, 5.4, 4. , 9.3, 6.2, 4.2, 6. , 4.9, 3.7, 4.1, 5.8, 5.6, 5.5,\n",
       "       4.4, 4.6, 5.9, 3.9, 3.1, 2.9, 5.2, 3.3, 4.5, 5.1, 3.5, 2.5, 1.9,\n",
       "       2.2, 2. , 9.5, 4.7, 2.1, 3.6, 1.8, 3.8, 3. , 9.6, 2.8, 1.7, 2.7,\n",
       "       2.4, 1.5, 1.2, 2.3, 0.5, 0.6, 0.9, 1. , 1.4, 1.3, 0.7])"
      ]
     },
     "execution_count": 47,
     "metadata": {},
     "output_type": "execute_result"
    }
   ],
   "source": [
    "df_proj_int_1['user_score'].unique()"
   ]
  },
  {
   "cell_type": "markdown",
   "metadata": {},
   "source": [
    "- a remoção dos valores ausentes foi feito para poder trasnformar a coluna apenas em valores numéricos\n",
    "- como é uma coluna de pontuação que os usuários deram para os filmes, não tem sentido fazer uma média ou qaulquer outro tipo de cálculo, pois são jogos diferentes, plataformas diferentes, épocas diferentes.\n",
    "- então, preencher com valores calculados ou \"chutes\" poderia mudar completamente a relaidade do jogo e com isso mudar as vendas  e a produção\n"
   ]
  },
  {
   "cell_type": "markdown",
   "metadata": {},
   "source": [
    "# Etapa 5 - Teste as seguintes hipóteses"
   ]
  },
  {
   "cell_type": "markdown",
   "metadata": {},
   "source": [
    "- Hipótese Nula (H0): As classificações médias dos usuários das plataformas XBox One e PC são as mesmas\n",
    "- Hipótese Alternativa (H1): As classificações médias não são iguais"
   ]
  },
  {
   "cell_type": "code",
   "execution_count": 52,
   "metadata": {},
   "outputs": [
    {
     "name": "stdout",
     "output_type": "stream",
     "text": [
      "valor-p: 0.00010211482734739934\n",
      "Rejeitamos a hipótese nula\n"
     ]
    }
   ],
   "source": [
    "alpha = 0.05\n",
    "rating_xone = df_proj_int_1[df_proj_int_1['platform'] == 'XOne']['user_score']\n",
    "rating_pc = df_proj_int_1[df_proj_int_1['platform'] == 'PC']['user_score']\n",
    "results = st.ttest_ind(rating_xone, rating_pc)\n",
    "\n",
    "print('valor-p:', results.pvalue)\n",
    "\n",
    "if results.pvalue < alpha:\n",
    "    print(\"Rejeitamos a hipótese nula\")\n",
    "else:\n",
    "    print(\"Não podemos rejeitar a hipótese nula\")"
   ]
  },
  {
   "cell_type": "markdown",
   "metadata": {},
   "source": [
    "- Hipótese Nula (H0): As classificações médias de usuários para os gêneros Action e Sports são diferentes\n",
    "- Hipótese Alternativa (H1): As classificações médias não são diferentes"
   ]
  },
  {
   "cell_type": "code",
   "execution_count": 53,
   "metadata": {},
   "outputs": [
    {
     "name": "stdout",
     "output_type": "stream",
     "text": [
      "valor-p: 0.00010211482734739934\n",
      "Rejeitamos a hipótese nula\n"
     ]
    }
   ],
   "source": [
    "alpha = 0.05\n",
    "rating_action = df_proj_int_1[df_proj_int_1['genre'] == 'Action']['user_score']\n",
    "rating_sports = df_proj_int_1[df_proj_int_1['genre'] == 'Sports']['user_score']\n",
    "\n",
    "print('valor-p:', results.pvalue)\n",
    "\n",
    "if results.pvalue < alpha:\n",
    "    print(\"Rejeitamos a hipótese nula\")\n",
    "else:\n",
    "    print(\"Não podemos rejeitar a hipótese nula\")"
   ]
  },
  {
   "cell_type": "markdown",
   "metadata": {},
   "source": [
    "# Etapa 6 - Conclusão geral"
   ]
  },
  {
   "cell_type": "markdown",
   "metadata": {},
   "source": [
    "- existe uma relação entre o ano de lançamento e a quantidade de jogos lançados \n",
    "- existiu um pico de lançamentos no começo dos anos 2000\n",
    "- a quantidade de venda depende do tipo de plataforma\n",
    "- existem algumas plataformas que não existem mais e normalmente está relacionado ao lançamento de um novo modelo\n",
    "- a maior quantidade de vendas não necessariamente indica a mais lucrativa, pois algumas plataformas estão em crescimento\n",
    "- as avaliações, tanto dos usuários como dos críticos, afetam um pouco as vendas\n",
    "- existem gêneros que vendem mais e existe uma plataforma que sempre vende mais dentro desses gêneros\n",
    "- a região, a plataforma e a quantidade de vendas estão diretamente relacionados\n",
    "- através do teste de hipótese, foi possível ver que as classificações médias dos usuários e as plataformas indicadas não são iguais\n",
    "- através do teste de hipótese, foi possível ver que as classificações médias dos usuários e os gêneros indicados não são diferentes"
   ]
  }
 ],
 "metadata": {
  "kernelspec": {
   "display_name": "Python 3 (ipykernel)",
   "language": "python",
   "name": "python3"
  },
  "language_info": {
   "codemirror_mode": {
    "name": "ipython",
    "version": 3
   },
   "file_extension": ".py",
   "mimetype": "text/x-python",
   "name": "python",
   "nbconvert_exporter": "python",
   "pygments_lexer": "ipython3",
   "version": "3.11.5"
  },
  "toc": {
   "base_numbering": 1,
   "nav_menu": {},
   "number_sections": true,
   "sideBar": true,
   "skip_h1_title": true,
   "title_cell": "Table of Contents",
   "title_sidebar": "Contents",
   "toc_cell": false,
   "toc_position": {},
   "toc_section_display": true,
   "toc_window_display": false
  }
 },
 "nbformat": 4,
 "nbformat_minor": 2
}
